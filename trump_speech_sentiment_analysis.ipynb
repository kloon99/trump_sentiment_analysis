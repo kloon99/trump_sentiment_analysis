{
 "cells": [
  {
   "cell_type": "code",
   "execution_count": null,
   "metadata": {},
   "outputs": [],
   "source": [
    "#Kok Mun Loon 14 Feb 2021\n",
    "import os\n",
    "import re\n",
    "import pickle\n",
    "import numpy as np\n",
    "import pandas as pd\n",
    "from collections import Counter\n",
    "from nltk import sent_tokenize, word_tokenize\n",
    "import matplotlib.pyplot as plt\n",
    "import senti_helper as helper"
   ]
  },
  {
   "cell_type": "code",
   "execution_count": null,
   "metadata": {},
   "outputs": [],
   "source": [
    "from wordcloud import WordCloud\n",
    "from textblob import TextBlob"
   ]
  },
  {
   "cell_type": "code",
   "execution_count": null,
   "metadata": {
    "lines_to_next_cell": 2
   },
   "outputs": [],
   "source": [
    "%load_ext autoreload\n",
    "%autoreload 2"
   ]
  },
  {
   "cell_type": "code",
   "execution_count": null,
   "metadata": {},
   "outputs": [],
   "source": [
    "pd.set_option('max_colwidth', 1200)"
   ]
  },
  {
   "cell_type": "code",
   "execution_count": null,
   "metadata": {},
   "outputs": [],
   "source": [
    "from nltk.corpus import stopwords\n",
    "STOPWORD = stopwords.words('english')"
   ]
  },
  {
   "cell_type": "code",
   "execution_count": null,
   "metadata": {},
   "outputs": [],
   "source": [
    "import string\n",
    "string.punctuation\n",
    "PUNCT = r'!\"#$%&()*+-/<=>?@[]\\^_`{|}~‘’' "
   ]
  },
  {
   "cell_type": "code",
   "execution_count": null,
   "metadata": {
    "code_folding": [
     0
    ]
   },
   "outputs": [],
   "source": [
    "%%html\n",
    "<style>\n",
    ".ex1 {\n",
    "  font-family: Verdana, sans-serif;\n",
    "  margin: auto;\n",
    "  border: 2px solid #73AD21;\n",
    "  padding: 5px 5px 5px 5px;\n",
    "</style>"
   ]
  },
  {
   "cell_type": "markdown",
   "metadata": {},
   "source": [
    "<div class=\"ex1\">Since I have already downloaded the necessary datasets and we can simply load this into the notebook.\n",
    "</div>"
   ]
  },
  {
   "cell_type": "code",
   "execution_count": null,
   "metadata": {},
   "outputs": [],
   "source": [
    "trump_file_objects = pickle.load(open('trump_file_objects.pkl', mode='rb'))"
   ]
  },
  {
   "cell_type": "markdown",
   "metadata": {},
   "source": [
    "<div class=\"ex1\">For our first task, for every sentence, we assign a score of -1 for each negative word and a score of +1 for each positive word. The total sentiment score for a sentennce is simply the total of the postive word and negative words scores. We can then feed the resutling list into a Python Counter object and n plot a histogram of the counts of the total sentiment score. </div>"
   ]
  },
  {
   "cell_type": "code",
   "execution_count": null,
   "metadata": {},
   "outputs": [],
   "source": [
    "total_sentiment_score = [helper.get_sentiments_raw(sent,trump_file_objects['positive_words'],\n",
    "                                                   trump_file_objects['negative_words']) for sent in trump_file_objects['trump_sents']]"
   ]
  },
  {
   "cell_type": "code",
   "execution_count": null,
   "metadata": {},
   "outputs": [],
   "source": [
    "#Usisg the Counter object to process the counts of the different score\n",
    "sentiment_count = Counter(total_sentiment_score)\n",
    "for _count in sorted(sentiment_count.keys()):\n",
    "    print(\"Score of: {}; Total count is {}.\".format(_count,sentiment_count[_count]))"
   ]
  },
  {
   "cell_type": "code",
   "execution_count": null,
   "metadata": {},
   "outputs": [],
   "source": [
    "#Create datafram for plotting.\n",
    "total_sentiment_score_df = pd.DataFrame({\n",
    "    'score' : total_sentiment_score\n",
    "})"
   ]
  },
  {
   "cell_type": "code",
   "execution_count": null,
   "metadata": {
    "scrolled": true
   },
   "outputs": [],
   "source": [
    "#Plot bar chart using plotly express.\n",
    "import plotly.express as px\n",
    "fig = px.histogram(total_sentiment_score_df, x='score', color='score', template='plotly_white', title='Sentence Scores')\n",
    "fig.show()"
   ]
  },
  {
   "cell_type": "markdown",
   "metadata": {},
   "source": [
    "Next, we get a plot of the 50 most negative sentences and a correpodng plot of the most postive sentences. Using plotly express we can see a bar chart of these sentences as well as the actual text comprised within with a mouse hover."
   ]
  },
  {
   "cell_type": "code",
   "execution_count": null,
   "metadata": {},
   "outputs": [],
   "source": [
    "sents_neg_count, sents_pos_count = helper.get_plot_for_wc(trump_file_objects)"
   ]
  },
  {
   "cell_type": "code",
   "execution_count": null,
   "metadata": {},
   "outputs": [],
   "source": [
    "fig_wc_neg = helper.ploty_fig_wc(sents_neg_count, 'neg')\n",
    "fig_wc_neg.show()"
   ]
  },
  {
   "cell_type": "markdown",
   "metadata": {},
   "source": [
    "The theme of these negative-sentiment sentences centers around the alleged voter fraud and how the election was alleged stolen from Mr. Trump. Blamed as also placed on news media and that voting machines that were used for the US 2020 elections. This is contrasted with the positive-sentiment sentences in which Mr. Trump expresses gratitude to his supporters."
   ]
  },
  {
   "cell_type": "code",
   "execution_count": null,
   "metadata": {},
   "outputs": [],
   "source": [
    "fig_wc_pos = helper.ploty_fig_wc(sents_pos_count, 'pos')\n",
    "fig_wc_pos.show()"
   ]
  },
  {
   "cell_type": "markdown",
   "metadata": {},
   "source": [
    "Often, it is useful to see the text with the key words highlighted. We can do this by creating a basic style sheet to display the text as a HTML snippet. Here in this sample of 5 setences, red means a negative word, blue means a positive word and neutral words are displayed in the default black font. "
   ]
  },
  {
   "cell_type": "code",
   "execution_count": null,
   "metadata": {},
   "outputs": [],
   "source": [
    "NEG_WORDS = list(wd.lower() for wd in trump_file_objects['negative_words'])\n",
    "POS_WORDS = list(wd.lower() for wd in trump_file_objects['positive_words'])"
   ]
  },
  {
   "cell_type": "code",
   "execution_count": null,
   "metadata": {},
   "outputs": [],
   "source": [
    "#Process setences as HTML code with color key words highlighting.\n",
    "trump_wc_df = helper.get_df_for_wc(trump_file_objects)\n",
    "display_neg_sents = helper.get_disp_sent(helper.display_process_sents(trump_wc_df, 'negative_count', 'sents', \n",
    "                                                                      ascending=True, num_sents=10))\n",
    "color_sents_list = helper.get_color_sents_htm(display_neg_sents,POS_WORDS, NEG_WORDS)"
   ]
  },
  {
   "cell_type": "code",
   "execution_count": null,
   "metadata": {
    "code_folding": [
     1,
     2
    ]
   },
   "outputs": [],
   "source": [
    "from IPython.core.display import HTML\n",
    "display(HTML(\n",
    "    r'''<style>\n",
    "        .blue1 {  \n",
    "          color: blue;\n",
    "          margin: 0px;\n",
    "          padding: 0px;\n",
    "        }\n",
    "        .red1 {  \n",
    "          color: red;\n",
    "          margin: 0px;\n",
    "          padding: 0px;\n",
    "        }\n",
    "        .black1 {  \n",
    "          color: black;\n",
    "          margin: 0px;\n",
    "          padding: 0px;\n",
    "        }\n",
    "    </style>'''\n",
    "))\n",
    "HTML(color_sents_list)"
   ]
  },
  {
   "cell_type": "code",
   "execution_count": null,
   "metadata": {},
   "outputs": [],
   "source": [
    "#Create sentiment dataframe\n",
    "trump_senti_df = helper.get_senti_frame('sents', trump_file_objects['trump_sents'])\n",
    "trump_senti_df.head()"
   ]
  },
  {
   "cell_type": "markdown",
   "metadata": {},
   "source": [
    "<div class=\"ex1\">The sentiment function of textblob returns two properties, polarity, and subjectivity.\n",
    "Polarity is float between 1 and -1 where 1 is the most positive and -1 means is the most negative. Subjectivity is in turn a float between 0 and 1, where 1 is the highest score indicating subjectivity. \n",
    "</div>"
   ]
  },
  {
   "cell_type": "code",
   "execution_count": null,
   "metadata": {},
   "outputs": [],
   "source": [
    "print('I am a happy camper:', TextBlob('I am a happy camper').sentiment)\n",
    "print('I am a sad sack: ', TextBlob('I am a sad sack').sentiment)\n",
    "print('The captital of Italy is Rome: ',TextBlob('The captital of Italy is Rome').sentiment)"
   ]
  },
  {
   "cell_type": "code",
   "execution_count": null,
   "metadata": {},
   "outputs": [],
   "source": [
    "trump_senti_df['sentiment'] = trump_senti_df['sents'].apply(lambda x: TextBlob(x).polarity)"
   ]
  },
  {
   "cell_type": "code",
   "execution_count": null,
   "metadata": {},
   "outputs": [],
   "source": [
    "trump_senti_df['subjectivity'] = trump_senti_df['sents'].apply(lambda x: TextBlob(x).subjectivity)"
   ]
  },
  {
   "cell_type": "code",
   "execution_count": null,
   "metadata": {},
   "outputs": [],
   "source": [
    "trump_senti_df.head()"
   ]
  },
  {
   "cell_type": "code",
   "execution_count": null,
   "metadata": {},
   "outputs": [],
   "source": [
    "STOPWORD = STOPWORD + ['going', 'away', 'get', 'dont', 'one', 'way', 'want', 'go', 'said', 'much', 'say']"
   ]
  },
  {
   "cell_type": "code",
   "execution_count": null,
   "metadata": {},
   "outputs": [],
   "source": [
    "helper.get_senti_wcd(trump_senti_df, top_num_words=50, sentiment='neg', _ascending=False, _stopwords=STOPWORD)"
   ]
  },
  {
   "cell_type": "code",
   "execution_count": null,
   "metadata": {},
   "outputs": [],
   "source": [
    "helper.get_senti_wcd(trump_senti_df, top_num_words=50, sentiment='pos',_ascending=True, _stopwords=STOPWORD)"
   ]
  },
  {
   "cell_type": "code",
   "execution_count": null,
   "metadata": {},
   "outputs": [],
   "source": [
    "from transformers import pipeline\n",
    "nlp = pipeline(\"sentiment-analysis\")\n",
    "result = nlp([\"I hate you\", 'I love you'])\n",
    "print(result)"
   ]
  },
  {
   "cell_type": "code",
   "execution_count": null,
   "metadata": {},
   "outputs": [],
   "source": [
    "trump_transform_df = helper.get_transform_pd(trump_file_objects['trump_sents'])"
   ]
  },
  {
   "cell_type": "code",
   "execution_count": null,
   "metadata": {},
   "outputs": [],
   "source": [
    "trump_transform_df.head()"
   ]
  },
  {
   "cell_type": "code",
   "execution_count": null,
   "metadata": {},
   "outputs": [],
   "source": [
    "trump_trans_neg_df = helper.get_trump_trans_neg_df(trump_transform_df)\n",
    "trump_trans_neg_df.head(10)"
   ]
  },
  {
   "cell_type": "code",
   "execution_count": null,
   "metadata": {},
   "outputs": [],
   "source": [
    "trump_trans_neg_fig = helper.trump_trans_neg_df_plot(trump_trans_neg_df)"
   ]
  },
  {
   "cell_type": "code",
   "execution_count": null,
   "metadata": {},
   "outputs": [],
   "source": [
    "trump_trans_pos_df = helper.get_trump_trans_pos_df(trump_transform_df)\n",
    "trump_trans_pos_df.head(10)"
   ]
  },
  {
   "cell_type": "code",
   "execution_count": null,
   "metadata": {},
   "outputs": [],
   "source": [
    "trump_trans_pos_fig = helper.trump_trans_pos_df_plot(trump_trans_pos_df)"
   ]
  }
 ],
 "metadata": {
  "jupytext": {
   "encoding": "# -*- coding: utf-8 -*-",
   "formats": "ipynb,py:percent"
  },
  "kernelspec": {
   "display_name": "Python (transformer1)",
   "language": "python",
   "name": "transformer"
  },
  "language_info": {
   "codemirror_mode": {
    "name": "ipython",
    "version": 3
   },
   "file_extension": ".py",
   "mimetype": "text/x-python",
   "name": "python",
   "nbconvert_exporter": "python",
   "pygments_lexer": "ipython3",
   "version": "3.8.5"
  }
 },
 "nbformat": 4,
 "nbformat_minor": 4
}
